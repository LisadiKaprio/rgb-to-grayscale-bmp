{
  "nbformat": 4,
  "nbformat_minor": 0,
  "metadata": {
    "colab": {
      "provenance": [],
      "authorship_tag": "ABX9TyPtkzIFM8LRs4SexBjHlPUi",
      "include_colab_link": true
    },
    "kernelspec": {
      "name": "python3",
      "display_name": "Python 3"
    },
    "language_info": {
      "name": "python"
    }
  },
  "cells": [
    {
      "cell_type": "markdown",
      "metadata": {
        "id": "view-in-github",
        "colab_type": "text"
      },
      "source": [
        "<a href=\"https://colab.research.google.com/github/LisadiKaprio/rgb-to-grayscale-bmp/blob/main/RGBtoGrayscaleBMP_2.ipynb\" target=\"_parent\"><img src=\"https://colab.research.google.com/assets/colab-badge.svg\" alt=\"Open In Colab\"/></a>"
      ]
    },
    {
      "cell_type": "markdown",
      "source": [
        "Following code converts a normal png into a grayscale bmp file.\n",
        "This tool should make it easier to create scatter brushes for SAI 2.\n",
        "\n",
        "1. Click the little folder icon on the left.\n",
        "2. Create a folder called \"pngs\" and put all of your png files there. Ignore the \"sample_data\" folder completely.\n",
        "3. Run the code below by clicking the Play button. Images will start converting. Download should start automatically once conversion is done.\n",
        "\n",
        "*Credit to original conversion code: https://stackoverflow.com/a/46388479*\n"
      ],
      "metadata": {
        "id": "tyRpqH6-S8WS"
      }
    },
    {
      "cell_type": "code",
      "source": [
        "from PIL import Image\n",
        "import numpy as np\n",
        "import os\n",
        "\n",
        "original_pngs = '/content/pngs/'\n",
        "finished_bmps = '/content/finished_bmps/'\n",
        "\n",
        "!mkdir finished_bmps\n",
        "\n",
        "for filename in os.listdir(original_pngs):\n",
        "    if filename.endswith('.png'):\n",
        "        img = Image.open(original_pngs + filename)\n",
        "        ary = np.array(img)\n",
        "\n",
        "        # Split the three channels\n",
        "        r,g,b = np.split(ary,3,axis=2)\n",
        "        r=r.reshape(-1)\n",
        "        g=r.reshape(-1)\n",
        "        b=r.reshape(-1)\n",
        "\n",
        "        # Standard RGB to grayscale \n",
        "        bitmap = list(map(lambda x: 0.299*x[0]+0.587*x[1]+0.114*x[2], \n",
        "        zip(r,g,b)))\n",
        "        bitmap = np.array(bitmap).reshape([ary.shape[0], ary.shape[1]])\n",
        "        bitmap = np.dot((bitmap > 128).astype(float),255)\n",
        "        im = Image.fromarray(bitmap.astype(np.uint8))\n",
        "        filename = filename[:-4]\n",
        "        im.save(finished_bmps + filename + '.bmp')\n",
        "        print(filename + ' was converted')\n",
        "\n",
        "# DOWNLOADING\n",
        "!zip -r /content/finished_bmps.zip /content/finished_bmps\n",
        "from google.colab import files\n",
        "files.download(\"/content/finished_bmps.zip\")"
      ],
      "metadata": {
        "id": "E22lH4EE4mO5"
      },
      "execution_count": null,
      "outputs": []
    },
    {
      "cell_type": "markdown",
      "source": [
        "The snippet below allows you to duplicate an original .ini configuration file for every png in your pngs folder. This way, you'll get the needed .ini configuration file for every brush you've created, all in a matter of seconds!\n",
        "\n",
        "1. Click the folder icon on the left.\n",
        "2. Insert original .ini file there, it should be named \"template.ini\". \n",
        "\n",
        "*You can take the default Stars.ini file from the SAI's \"scatter\" folder, and just rename it. Or you can take this file and preconfigure it to your liking by just opening it in notepad or even doubleclicking it here in colab, and then editing relevant values.*\n",
        "\n",
        "3. Run the code below by clicking the Play button. New inis will start generating. Download of the whole inis.zip archive should start automatically once it's done."
      ],
      "metadata": {
        "id": "ut4NE9W0Cm9L"
      }
    },
    {
      "cell_type": "code",
      "execution_count": null,
      "metadata": {
        "id": "s3552ZVqPhJv"
      },
      "outputs": [],
      "source": [
        "import os\n",
        "import shutil\n",
        "\n",
        "!mkdir inis\n",
        "\n",
        "template_ini = '/content/template.ini'\n",
        "original_pngs = '/content/pngs/'\n",
        "\n",
        "for filename in os.listdir(original_pngs):\n",
        "    if filename.endswith('.png'):\n",
        "        filename = filename[:-4]\n",
        "        shutil.copy(template_ini, \"/content/inis/\" + filename + \".ini\")\n",
        "\n",
        "# DOWNLOADING\n",
        "!zip -r /content/inis.zip /content/inis\n",
        "from google.colab import files\n",
        "files.download(\"/content/inis.zip\")"
      ]
    }
  ]
}